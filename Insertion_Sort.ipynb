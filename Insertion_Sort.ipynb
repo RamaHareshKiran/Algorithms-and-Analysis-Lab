{
  "nbformat": 4,
  "nbformat_minor": 0,
  "metadata": {
    "colab": {
      "provenance": [],
      "authorship_tag": "ABX9TyOWbVSjWq7FJMdIi8p2WL0F",
      "include_colab_link": true
    },
    "kernelspec": {
      "name": "python3",
      "display_name": "Python 3"
    },
    "language_info": {
      "name": "python"
    }
  },
  "cells": [
    {
      "cell_type": "markdown",
      "metadata": {
        "id": "view-in-github",
        "colab_type": "text"
      },
      "source": [
        "<a href=\"https://colab.research.google.com/github/RamaHareshKiran/Algorithms-and-Analysis-Lab/blob/Sorting/Insertion_Sort.ipynb\" target=\"_parent\"><img src=\"https://colab.research.google.com/assets/colab-badge.svg\" alt=\"Open In Colab\"/></a>"
      ]
    },
    {
      "cell_type": "code",
      "execution_count": 3,
      "metadata": {
        "colab": {
          "base_uri": "https://localhost:8080/"
        },
        "id": "6aLBnrd1n21k",
        "outputId": "8565e5fb-474b-4edb-e9ed-7991af96b10c"
      },
      "outputs": [
        {
          "output_type": "stream",
          "name": "stdout",
          "text": [
            "Enter the number of elements in the array: 4\n",
            "Enter the elements:\n",
            "4\n",
            "3\n",
            "2\n",
            "1\n",
            "Sorted array: [1, 2, 3, 4]\n"
          ]
        }
      ],
      "source": [
        "def insertion_sort(arr):\n",
        "    for i in range(1, len(arr)):\n",
        "        key = arr[i]\n",
        "        j = i - 1\n",
        "        while j >= 0 and key < arr[j]:\n",
        "            arr[j + 1] = arr[j]\n",
        "            j -= 1\n",
        "        arr[j + 1] = key\n",
        "\n",
        "n = int(input(\"Enter the number of elements in the array: \"))\n",
        "arr = []\n",
        "\n",
        "print(\"Enter the elements:\")\n",
        "for _ in range(n):\n",
        "    value = int(input())\n",
        "    arr.append(value)\n",
        "\n",
        "insertion_sort(arr)\n",
        "print(\"Sorted array:\", arr)\n"
      ]
    }
  ]
}