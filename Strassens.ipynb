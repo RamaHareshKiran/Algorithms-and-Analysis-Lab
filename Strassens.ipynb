{
  "nbformat": 4,
  "nbformat_minor": 0,
  "metadata": {
    "colab": {
      "provenance": [],
      "authorship_tag": "ABX9TyPNEIj9hI9DBugZPOKoprRf",
      "include_colab_link": true
    },
    "kernelspec": {
      "name": "python3",
      "display_name": "Python 3"
    },
    "language_info": {
      "name": "python"
    }
  },
  "cells": [
    {
      "cell_type": "markdown",
      "metadata": {
        "id": "view-in-github",
        "colab_type": "text"
      },
      "source": [
        "<a href=\"https://colab.research.google.com/github/RamaHareshKiran/Algorithms-and-Analysis-Lab/blob/Algorithms/Strassens.ipynb\" target=\"_parent\"><img src=\"https://colab.research.google.com/assets/colab-badge.svg\" alt=\"Open In Colab\"/></a>"
      ]
    },
    {
      "cell_type": "code",
      "execution_count": 25,
      "metadata": {
        "colab": {
          "base_uri": "https://localhost:8080/"
        },
        "id": "6aLBnrd1n21k",
        "outputId": "f85b1a76-a8db-4ad0-a8e2-9c431ecda3a1"
      },
      "outputs": [
        {
          "output_type": "stream",
          "name": "stdout",
          "text": [
            "Result of Strassen's algorithm:\n",
            "[[71. 22.]\n",
            " [43. -2.]]\n"
          ]
        }
      ],
      "source": [
        "import numpy as np\n",
        "\n",
        "def strassen(A, B):\n",
        "    if len(A) == 1:\n",
        "        return A * B\n",
        "\n",
        "    mid = len(A) // 2\n",
        "\n",
        "    # Splitting the matrices into quadrants\n",
        "    A11 = A[:mid, :mid]\n",
        "    A12 = A[:mid, mid:]\n",
        "    A21 = A[mid:, :mid]\n",
        "    A22 = A[mid:, mid:]\n",
        "\n",
        "    B11 = B[:mid, :mid]\n",
        "    B12 = B[:mid, mid:]\n",
        "    B21 = B[mid:, :mid]\n",
        "    B22 = B[mid:, mid:]\n",
        "\n",
        "    # Calculating the 7 products\n",
        "    P1 = strassen(A11 + A22, B11 + B22)\n",
        "    P2 = strassen(A21 + A22, B11)\n",
        "    P3 = strassen(A11, B12 - B22)\n",
        "    P4 = strassen(A22, B21 - B11)\n",
        "    P5 = strassen(A11 + A12, B22)\n",
        "    P6 = strassen(A21 - A11, B11 + B12)\n",
        "    P7 = strassen(A12 - A22, B21 + B22)\n",
        "\n",
        "    # Constructing the result matrix\n",
        "    C11 = P1 + P4 - P5 + P6\n",
        "    C12 = P3 + P5\n",
        "    C21 = P2 + P4\n",
        "    C22 = P1 - P2 + P3 + P7\n",
        "\n",
        "    C = np.zeros((len(A), len(B)))\n",
        "    C[:mid, :mid] = C11\n",
        "    C[:mid, mid:] = C12\n",
        "    C[mid:, :mid] = C21\n",
        "    C[mid:, mid:] = C22\n",
        "\n",
        "    return C\n",
        "\n",
        "# Example usage\n",
        "if __name__ == \"__main__\":\n",
        "    A = np.array([[1, 2], [3, 4]])\n",
        "    B = np.array([[5, 6], [7, 8]])\n",
        "\n",
        "    result = strassen(A, B)\n",
        "    print(\"Result of Strassen's algorithm:\")\n",
        "    print(result)\n"
      ]
    }
  ]
}