{
  "nbformat": 4,
  "nbformat_minor": 0,
  "metadata": {
    "colab": {
      "provenance": [],
      "authorship_tag": "ABX9TyOaz/IrlwBTmtuvkzMC4M5G",
      "include_colab_link": true
    },
    "kernelspec": {
      "name": "python3",
      "display_name": "Python 3"
    },
    "language_info": {
      "name": "python"
    }
  },
  "cells": [
    {
      "cell_type": "markdown",
      "metadata": {
        "id": "view-in-github",
        "colab_type": "text"
      },
      "source": [
        "<a href=\"https://colab.research.google.com/github/RamaHareshKiran/Algorithms-and-Analysis-Lab/blob/Algorithms/Hop_Caft_Karp.ipynb\" target=\"_parent\"><img src=\"https://colab.research.google.com/assets/colab-badge.svg\" alt=\"Open In Colab\"/></a>"
      ]
    },
    {
      "cell_type": "code",
      "execution_count": 16,
      "metadata": {
        "colab": {
          "base_uri": "https://localhost:8080/"
        },
        "id": "6aLBnrd1n21k",
        "outputId": "b3234af3-8816-448b-f961-62139efa9c53"
      },
      "outputs": [
        {
          "output_type": "stream",
          "name": "stdout",
          "text": [
            "Maximum Matching: 3\n"
          ]
        }
      ],
      "source": [
        "from collections import deque, defaultdict\n",
        "\n",
        "class BipartiteGraph:\n",
        "    def __init__(self, left_size, right_size):\n",
        "        self.left_size = left_size\n",
        "        self.right_size = right_size\n",
        "        self.graph = defaultdict(list)\n",
        "        self.pair_u = [-1] * left_size\n",
        "        self.pair_v = [-1] * right_size\n",
        "        self.dist = [-1] * left_size\n",
        "\n",
        "    def add_edge(self, u, v):\n",
        "        self.graph[u].append(v)\n",
        "\n",
        "    def bfs(self):\n",
        "        queue = deque()\n",
        "        for u in range(self.left_size):\n",
        "            if self.pair_u[u] == -1:\n",
        "                self.dist[u] = 0\n",
        "                queue.append(u)\n",
        "            else:\n",
        "                self.dist[u] = float('inf')\n",
        "\n",
        "        found_augmenting_path = False\n",
        "\n",
        "        while queue:\n",
        "            u = queue.popleft()\n",
        "            for v in self.graph[u]:\n",
        "                if self.pair_v[v] == -1:\n",
        "                    found_augmenting_path = True\n",
        "                elif self.dist[self.pair_v[v]] == float('inf'):\n",
        "                    self.dist[self.pair_v[v]] = self.dist[u] + 1\n",
        "                    queue.append(self.pair_v[v])\n",
        "\n",
        "        return found_augmenting_path\n",
        "\n",
        "    def dfs(self, u):\n",
        "        for v in self.graph[u]:\n",
        "            if self.pair_v[v] == -1 or (self.dist[self.pair_v[v]] == self.dist[u] + 1 and self.dfs(self.pair_v[v])):\n",
        "                self.pair_u[u] = v\n",
        "                self.pair_v[v] = u\n",
        "                return True\n",
        "        self.dist[u] = float('inf')\n",
        "        return False\n",
        "\n",
        "    def hopcroft_karp(self):\n",
        "        matching = 0\n",
        "        while self.bfs():\n",
        "            for u in range(self.left_size):\n",
        "                if self.pair_u[u] == -1 and self.dfs(u):\n",
        "                    matching += 1\n",
        "        return matching\n",
        "\n",
        "if __name__ == \"__main__\":\n",
        "    left_size = 4\n",
        "    right_size = 4\n",
        "    graph = BipartiteGraph(left_size, right_size)\n",
        "\n",
        "    graph.add_edge(0, 0)\n",
        "    graph.add_edge(0, 1)\n",
        "    graph.add_edge(1, 0)\n",
        "    graph.add_edge(1, 2)\n",
        "    graph.add_edge(2, 1)\n",
        "    graph.add_edge(3, 2)\n",
        "\n",
        "    max_matching = graph.hopcroft_karp()\n",
        "    print(f\"Maximum Matching: {max_matching}\")\n"
      ]
    }
  ]
}