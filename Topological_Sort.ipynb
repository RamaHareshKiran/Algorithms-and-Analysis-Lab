{
  "metadata": {
    "kernelspec": {
      "name": "python",
      "display_name": "Python (Pyodide)",
      "language": "python"
    },
    "language_info": {
      "codemirror_mode": {
        "name": "python",
        "version": 3
      },
      "file_extension": ".py",
      "mimetype": "text/x-python",
      "name": "python",
      "nbconvert_exporter": "python",
      "pygments_lexer": "ipython3",
      "version": "3.8"
    }
  },
  "nbformat_minor": 5,
  "nbformat": 4,
  "cells": [
    {
      "id": "cc3a8bf8-7280-48e9-93f9-48a437de67e5",
      "cell_type": "code",
      "source": "                                                Topological Sort",
      "metadata": {
        "trusted": true
      },
      "outputs": [],
      "execution_count": null
    },
    {
      "id": "fe55883a-6887-43dd-9498-5333a51799e2",
      "cell_type": "code",
      "source": "def topologicalSortUtil(v, adj, visited, stack):\n    visited[v] = True\n    for i in adj[v]:\n        if not visited[i]:\n            topologicalSortUtil(i, adj, visited, stack)\n    stack.append(v)",
      "metadata": {
        "trusted": true
      },
      "outputs": [],
      "execution_count": 1
    },
    {
      "id": "6e691c76-e0da-4c74-aee2-3ac85796cc7a",
      "cell_type": "code",
      "source": "def topologicalSort(adj, V):\n    stack = []\n    visited = [False] * V\n    for i in range(V):\n        if not visited[i]:\n            topologicalSortUtil(i, adj, visited, stack)\n    print(\"Topological sorting of the graph:\", end=\" \")\n    while stack:\n        print(stack.pop(), end=\" \")",
      "metadata": {
        "trusted": true
      },
      "outputs": [],
      "execution_count": 2
    },
    {
      "id": "4c56aacb-9306-4c41-b30e-61ab3e64a229",
      "cell_type": "code",
      "source": "V = 6\nedges = [[5, 0], [4, 0], [4, 1], [3, 1], [2, 3], [5, 2]]\nadj = [[] for _ in range(V)]\nfor i in edges:\n    adj[i[0]].append(i[1])\ntopologicalSort(adj, V)",
      "metadata": {
        "trusted": true
      },
      "outputs": [
        {
          "name": "stdout",
          "text": "Topological sorting of the graph: 5 4 2 3 1 0 ",
          "output_type": "stream"
        }
      ],
      "execution_count": 4
    }
  ]
}