{
  "nbformat": 4,
  "nbformat_minor": 0,
  "metadata": {
    "colab": {
      "provenance": [],
      "authorship_tag": "ABX9TyPuLWcudSfVOkOjnv8hf1dr",
      "include_colab_link": true
    },
    "kernelspec": {
      "name": "python3",
      "display_name": "Python 3"
    },
    "language_info": {
      "name": "python"
    }
  },
  "cells": [
    {
      "cell_type": "markdown",
      "metadata": {
        "id": "view-in-github",
        "colab_type": "text"
      },
      "source": [
        "<a href=\"https://colab.research.google.com/github/RamaHareshKiran/Algorithms-and-Analysis-Lab/blob/Algorithms/Ford_Fulkerson.ipynb\" target=\"_parent\"><img src=\"https://colab.research.google.com/assets/colab-badge.svg\" alt=\"Open In Colab\"/></a>"
      ]
    },
    {
      "cell_type": "code",
      "execution_count": 24,
      "metadata": {
        "colab": {
          "base_uri": "https://localhost:8080/"
        },
        "id": "6aLBnrd1n21k",
        "outputId": "b7812650-7c20-4510-88bd-79d065a4c0a5"
      },
      "outputs": [
        {
          "output_type": "stream",
          "name": "stdout",
          "text": [
            "The maximum possible flow is: 15\n"
          ]
        }
      ],
      "source": [
        "from collections import defaultdict, deque\n",
        "\n",
        "class Graph:\n",
        "    def __init__(self):\n",
        "        self.graph = defaultdict(list)\n",
        "        self.capacity = {}\n",
        "\n",
        "    def add_edge(self, u, v, w):\n",
        "        self.graph[u].append(v)\n",
        "        self.graph[v].append(u)\n",
        "        self.capacity[(u, v)] = w\n",
        "        self.capacity[(v, u)] = 0\n",
        "\n",
        "    def dfs(self, source, sink):\n",
        "        stack = [(source, float('Inf'))]\n",
        "        parents = {source: None}\n",
        "        while stack:\n",
        "            u, flow = stack.pop()\n",
        "            for v in self.graph[u]:\n",
        "                if self.capacity[(u, v)] > 0 and v not in parents:\n",
        "                    parents[v] = u\n",
        "                    new_flow = min(flow, self.capacity[(u, v)])\n",
        "                    if v == sink:\n",
        "                        return new_flow, parents\n",
        "                    stack.append((v, new_flow))\n",
        "        return 0, parents\n",
        "\n",
        "    def ford_fulkerson(self, source, sink):\n",
        "        total_flow = 0\n",
        "        while True:\n",
        "            flow, parents = self.dfs(source, sink)\n",
        "            if flow == 0:\n",
        "                break\n",
        "            total_flow += flow\n",
        "            v = sink\n",
        "            while v != source:\n",
        "                u = parents[v]\n",
        "                self.capacity[(u, v)] -= flow\n",
        "                self.capacity[(v, u)] += flow\n",
        "                v = u\n",
        "        return total_flow\n",
        "\n",
        "if __name__ == \"__main__\":\n",
        "    g = Graph()\n",
        "    g.add_edge('s', 'a', 10)\n",
        "    g.add_edge('s', 'b', 5)\n",
        "    g.add_edge('a', 'b', 15)\n",
        "    g.add_edge('a', 't', 10)\n",
        "    g.add_edge('b', 't', 10)\n",
        "\n",
        "    source = 's'\n",
        "    sink = 't'\n",
        "    print(\"The maximum possible flow is:\", g.ford_fulkerson(source, sink))\n"
      ]
    }
  ]
}