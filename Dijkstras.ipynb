{
  "nbformat": 4,
  "nbformat_minor": 0,
  "metadata": {
    "colab": {
      "provenance": [],
      "authorship_tag": "ABX9TyPKhysOdyzjVxk4ebFwSaXv",
      "include_colab_link": true
    },
    "kernelspec": {
      "name": "python3",
      "display_name": "Python 3"
    },
    "language_info": {
      "name": "python"
    }
  },
  "cells": [
    {
      "cell_type": "markdown",
      "metadata": {
        "id": "view-in-github",
        "colab_type": "text"
      },
      "source": [
        "<a href=\"https://colab.research.google.com/github/RamaHareshKiran/Algorithms-and-Analysis-Lab/blob/Algorithms/Dijkstras.ipynb\" target=\"_parent\"><img src=\"https://colab.research.google.com/assets/colab-badge.svg\" alt=\"Open In Colab\"/></a>"
      ]
    },
    {
      "cell_type": "code",
      "execution_count": 15,
      "metadata": {
        "colab": {
          "base_uri": "https://localhost:8080/"
        },
        "id": "6aLBnrd1n21k",
        "outputId": "c3ef0dfe-771f-4dd2-f410-7e5764ea42bd"
      },
      "outputs": [
        {
          "output_type": "stream",
          "name": "stdout",
          "text": [
            "Shortest paths from A using Dijkstra's Algorithm for Graph 1:\n",
            "Distance to A: 0\n",
            "Distance to B: 1\n",
            "Distance to C: 3\n",
            "Distance to D: 4\n",
            "\n",
            "\n",
            "Shortest paths from 1 using Dijkstra's Algorithm for Graph 2:\n",
            "Distance to 1: 0\n",
            "Distance to 2: 3\n",
            "Distance to 3: 1\n",
            "Distance to 4: 6\n"
          ]
        }
      ],
      "source": [
        "import heapq\n",
        "from collections import defaultdict\n",
        "\n",
        "class Graph:\n",
        "    def __init__(self):\n",
        "        self.graph = defaultdict(list)\n",
        "\n",
        "    def add_edge(self, u, v, weight):\n",
        "        self.graph[u].append((v, weight))\n",
        "        if v not in self.graph:  # Ensure all vertices are represented\n",
        "            self.graph[v] = []\n",
        "\n",
        "    def dijkstra(self, start):\n",
        "        min_heap = [(0, start)]\n",
        "        distances = {vertex: float('inf') for vertex in self.graph}\n",
        "        distances[start] = 0\n",
        "\n",
        "        while min_heap:\n",
        "            current_distance, current_vertex = heapq.heappop(min_heap)\n",
        "\n",
        "            if current_distance > distances[current_vertex]:\n",
        "                continue\n",
        "\n",
        "            for neighbor, weight in self.graph[current_vertex]:\n",
        "                distance = current_distance + weight\n",
        "\n",
        "                if distance < distances[neighbor]:\n",
        "                    distances[neighbor] = distance\n",
        "                    heapq.heappush(min_heap, (distance, neighbor))\n",
        "\n",
        "        return distances\n",
        "\n",
        "if __name__ == \"__main__\":\n",
        "    graph1 = Graph()\n",
        "    graph1.add_edge('A', 'B', 1)\n",
        "    graph1.add_edge('A', 'C', 4)\n",
        "    graph1.add_edge('B', 'C', 2)\n",
        "    graph1.add_edge('B', 'D', 5)\n",
        "    graph1.add_edge('C', 'D', 1)\n",
        "\n",
        "    print(\"Shortest paths from A using Dijkstra's Algorithm for Graph 1:\")\n",
        "    distances1 = graph1.dijkstra('A')\n",
        "    for vertex in graph1.graph:\n",
        "        distance = distances1[vertex]\n",
        "        print(f\"Distance to {vertex}: {distance}\")\n",
        "\n",
        "    print(\"\\n\")\n",
        "\n",
        "    graph2 = Graph()\n",
        "    graph2.add_edge(1, 2, 3)\n",
        "    graph2.add_edge(1, 3, 1)\n",
        "    graph2.add_edge(2, 3, 1)\n",
        "    graph2.add_edge(2, 4, 6)\n",
        "    graph2.add_edge(3, 4, 5)\n",
        "\n",
        "    print(\"Shortest paths from 1 using Dijkstra's Algorithm for Graph 2:\")\n",
        "    distances2 = graph2.dijkstra(1)\n",
        "    for vertex in graph2.graph:\n",
        "        distance = distances2[vertex]\n",
        "        print(f\"Distance to {vertex}: {distance}\")\n"
      ]
    }
  ]
}