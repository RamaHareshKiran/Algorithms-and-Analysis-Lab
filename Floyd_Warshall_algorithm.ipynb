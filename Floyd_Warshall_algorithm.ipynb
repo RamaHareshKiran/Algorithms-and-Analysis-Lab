{
  "nbformat": 4,
  "nbformat_minor": 0,
  "metadata": {
    "colab": {
      "provenance": [],
      "authorship_tag": "ABX9TyORIYUw7mz6sT5jD4JHLkvd",
      "include_colab_link": true
    },
    "kernelspec": {
      "name": "python3",
      "display_name": "Python 3"
    },
    "language_info": {
      "name": "python"
    }
  },
  "cells": [
    {
      "cell_type": "markdown",
      "metadata": {
        "id": "view-in-github",
        "colab_type": "text"
      },
      "source": [
        "<a href=\"https://colab.research.google.com/github/RamaHareshKiran/Algorithms-and-Analysis-Lab/blob/Algorithms/Floyd_Warshall_algorithm.ipynb\" target=\"_parent\"><img src=\"https://colab.research.google.com/assets/colab-badge.svg\" alt=\"Open In Colab\"/></a>"
      ]
    },
    {
      "cell_type": "code",
      "execution_count": 26,
      "metadata": {
        "colab": {
          "base_uri": "https://localhost:8080/"
        },
        "id": "6aLBnrd1n21k",
        "outputId": "4ac512a3-8200-4958-b83f-70356889db24"
      },
      "outputs": [
        {
          "output_type": "stream",
          "name": "stdout",
          "text": [
            "Shortest path matrix:\n",
            "[[0. 3. 5. 6.]\n",
            " [5. 0. 2. 3.]\n",
            " [3. 6. 0. 1.]\n",
            " [2. 5. 7. 0.]]\n"
          ]
        }
      ],
      "source": [
        "import numpy as np\n",
        "\n",
        "def floyd_warshall(graph):\n",
        "    num_vertices = len(graph)\n",
        "    dist = np.array(graph)\n",
        "\n",
        "    for k in range(num_vertices):\n",
        "        for i in range(num_vertices):\n",
        "            for j in range(num_vertices):\n",
        "                if dist[i][j] > dist[i][k] + dist[k][j]:\n",
        "                    dist[i][j] = dist[i][k] + dist[k][j]\n",
        "\n",
        "    return dist\n",
        "\n",
        "# Example usage\n",
        "if __name__ == \"__main__\":\n",
        "    # Example graph represented as an adjacency matrix\n",
        "    graph = [\n",
        "        [0, 3, np.inf, 7],\n",
        "        [8, 0, 2, np.inf],\n",
        "        [5, np.inf, 0, 1],\n",
        "        [2, np.inf, np.inf, 0]\n",
        "    ]\n",
        "\n",
        "    shortest_paths = floyd_warshall(graph)\n",
        "    print(\"Shortest path matrix:\")\n",
        "    print(shortest_paths)\n"
      ]
    }
  ]
}