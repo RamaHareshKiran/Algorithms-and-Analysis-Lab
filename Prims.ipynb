{
  "nbformat": 4,
  "nbformat_minor": 0,
  "metadata": {
    "colab": {
      "provenance": [],
      "authorship_tag": "ABX9TyOi33iZIWifC8KksRSZn/Ge",
      "include_colab_link": true
    },
    "kernelspec": {
      "name": "python3",
      "display_name": "Python 3"
    },
    "language_info": {
      "name": "python"
    }
  },
  "cells": [
    {
      "cell_type": "markdown",
      "metadata": {
        "id": "view-in-github",
        "colab_type": "text"
      },
      "source": [
        "<a href=\"https://colab.research.google.com/github/RamaHareshKiran/Algorithms-and-Analysis-Lab/blob/Algorithms/Prims.ipynb\" target=\"_parent\"><img src=\"https://colab.research.google.com/assets/colab-badge.svg\" alt=\"Open In Colab\"/></a>"
      ]
    },
    {
      "cell_type": "code",
      "execution_count": 11,
      "metadata": {
        "colab": {
          "base_uri": "https://localhost:8080/"
        },
        "id": "6aLBnrd1n21k",
        "outputId": "ebf65c49-6162-4167-ca1b-5f9227b679e1"
      },
      "outputs": [
        {
          "output_type": "stream",
          "name": "stdout",
          "text": [
            "Minimum Spanning Tree using Prim's Algorithm for Graph 1:\n",
            "Vertex: A, Weight: 0\n",
            "Vertex: B, Weight: 1\n",
            "Vertex: C, Weight: 2\n",
            "Vertex: D, Weight: 1\n",
            "\n",
            "\n",
            "Minimum Spanning Tree using Prim's Algorithm for Graph 2:\n",
            "Vertex: 1, Weight: 0\n",
            "Vertex: 3, Weight: 1\n",
            "Vertex: 2, Weight: 1\n",
            "Vertex: 4, Weight: 5\n"
          ]
        }
      ],
      "source": [
        "import heapq\n",
        "\n",
        "class Graph:\n",
        "    def __init__(self):\n",
        "        self.graph = defaultdict(list)\n",
        "\n",
        "    def add_edge(self, u, v, weight):\n",
        "        self.graph[u].append((v, weight))\n",
        "        self.graph[v].append((u, weight))\n",
        "\n",
        "    def prim(self, start):\n",
        "        mst = []\n",
        "        visited = set()\n",
        "        min_heap = [(0, start)]  # (weight, vertex)\n",
        "\n",
        "        while min_heap:\n",
        "            weight, u = heapq.heappop(min_heap)\n",
        "            if u not in visited:\n",
        "                visited.add(u)\n",
        "                mst.append((u, weight))\n",
        "                for v, edge_weight in self.graph[u]:\n",
        "                    if v not in visited:\n",
        "                        heapq.heappush(min_heap, (edge_weight, v))\n",
        "\n",
        "        return mst\n",
        "\n",
        "if __name__ == \"__main__\":\n",
        "    graph1 = Graph()\n",
        "    graph1.add_edge('A', 'B', 1)\n",
        "    graph1.add_edge('A', 'C', 4)\n",
        "    graph1.add_edge('B', 'C', 2)\n",
        "    graph1.add_edge('B', 'D', 5)\n",
        "    graph1.add_edge('C', 'D', 1)\n",
        "\n",
        "    print(\"Minimum Spanning Tree using Prim's Algorithm for Graph 1:\")\n",
        "    mst1 = graph1.prim('A')\n",
        "    for vertex, weight in mst1:\n",
        "        print(f\"Vertex: {vertex}, Weight: {weight}\")\n",
        "\n",
        "    print(\"\\n\")\n",
        "\n",
        "    graph2 = Graph()\n",
        "    graph2.add_edge(1, 2, 3)\n",
        "    graph2.add_edge(1, 3, 1)\n",
        "    graph2.add_edge(2, 3, 1)\n",
        "    graph2.add_edge(2, 4, 6)\n",
        "    graph2.add_edge(3, 4, 5)\n",
        "\n",
        "    print(\"Minimum Spanning Tree using Prim's Algorithm for Graph 2:\")\n",
        "    mst2 = graph2.prim(1)\n",
        "    for vertex, weight in mst2:\n",
        "        print(f\"Vertex: {vertex}, Weight: {weight}\")\n"
      ]
    }
  ]
}