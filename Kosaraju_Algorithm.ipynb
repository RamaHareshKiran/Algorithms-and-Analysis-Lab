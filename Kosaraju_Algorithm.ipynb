{
  "nbformat": 4,
  "nbformat_minor": 0,
  "metadata": {
    "colab": {
      "provenance": [],
      "authorship_tag": "ABX9TyNV2DDbfsjSSI32RwTUAjt8",
      "include_colab_link": true
    },
    "kernelspec": {
      "name": "python3",
      "display_name": "Python 3"
    },
    "language_info": {
      "name": "python"
    }
  },
  "cells": [
    {
      "cell_type": "markdown",
      "metadata": {
        "id": "view-in-github",
        "colab_type": "text"
      },
      "source": [
        "<a href=\"https://colab.research.google.com/github/RamaHareshKiran/Algorithms-and-Analysis-Lab/blob/Algorithms/Kosaraju_Algorithm.ipynb\" target=\"_parent\"><img src=\"https://colab.research.google.com/assets/colab-badge.svg\" alt=\"Open In Colab\"/></a>"
      ]
    },
    {
      "cell_type": "code",
      "execution_count": 10,
      "metadata": {
        "colab": {
          "base_uri": "https://localhost:8080/"
        },
        "id": "6aLBnrd1n21k",
        "outputId": "05661b0d-7fe0-4c23-cd97-ccdcaf9fa4b5"
      },
      "outputs": [
        {
          "output_type": "stream",
          "name": "stdout",
          "text": [
            "Strongly Connected Components in Graph 1:\n",
            "Strongly Connected Component: 0\n",
            "Strongly Connected Component: 3\n",
            "Strongly Connected Component: 4\n",
            "\n",
            "\n",
            "Strongly Connected Components in Graph 2:\n",
            "Strongly Connected Component: 3\n",
            "Strongly Connected Component: 1\n"
          ]
        }
      ],
      "source": [
        "from collections import defaultdict\n",
        "\n",
        "class Graph:\n",
        "    def __init__(self):\n",
        "        self.graph = defaultdict(list)\n",
        "\n",
        "    def add_edge(self, u, v):\n",
        "        self.graph[u].append(v)\n",
        "\n",
        "    def dfs(self, v, visited, stack):\n",
        "        visited.add(v)\n",
        "        for neighbor in self.graph[v]:\n",
        "            if neighbor not in visited:\n",
        "                self.dfs(neighbor, visited, stack)\n",
        "        stack.append(v)\n",
        "\n",
        "    def get_transpose(self):\n",
        "        transposed_graph = Graph()\n",
        "        for u in self.graph:\n",
        "            for v in self.graph[u]:\n",
        "                transposed_graph.add_edge(v, u)\n",
        "        return transposed_graph\n",
        "\n",
        "    def kosaraju(self):\n",
        "        stack = []\n",
        "        visited = set()\n",
        "\n",
        "        for node in list(self.graph.keys()):  # Convert to list to avoid changing size during iteration\n",
        "            if node not in visited:\n",
        "                self.dfs(node, visited, stack)\n",
        "\n",
        "        transposed_graph = self.get_transpose()\n",
        "        visited.clear()\n",
        "\n",
        "        while stack:\n",
        "            node = stack.pop()\n",
        "            if node not in visited:\n",
        "                transposed_graph.dfs(node, visited, [])\n",
        "                print(f\"Strongly Connected Component: {node}\")\n",
        "\n",
        "if __name__ == \"__main__\":\n",
        "    graph1 = Graph()\n",
        "    graph1.add_edge(0, 1)\n",
        "    graph1.add_edge(1, 2)\n",
        "    graph1.add_edge(2, 0)\n",
        "    graph1.add_edge(1, 3)\n",
        "    graph1.add_edge(3, 4)\n",
        "\n",
        "    print(\"Strongly Connected Components in Graph 1:\")\n",
        "    graph1.kosaraju()\n",
        "    print(\"\\n\")\n",
        "\n",
        "    graph2 = Graph()\n",
        "    graph2.add_edge(1, 0)\n",
        "    graph2.add_edge(0, 2)\n",
        "    graph2.add_edge(2, 1)\n",
        "    graph2.add_edge(3, 4)\n",
        "    graph2.add_edge(4, 5)\n",
        "    graph2.add_edge(5, 3)\n",
        "\n",
        "    print(\"Strongly Connected Components in Graph 2:\")\n",
        "    graph2.kosaraju()\n"
      ]
    }
  ]
}