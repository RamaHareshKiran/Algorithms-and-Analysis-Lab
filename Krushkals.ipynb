{
  "nbformat": 4,
  "nbformat_minor": 0,
  "metadata": {
    "colab": {
      "provenance": [],
      "authorship_tag": "ABX9TyOJvkU2yRqz+Lz1oqx3yhX/",
      "include_colab_link": true
    },
    "kernelspec": {
      "name": "python3",
      "display_name": "Python 3"
    },
    "language_info": {
      "name": "python"
    }
  },
  "cells": [
    {
      "cell_type": "markdown",
      "metadata": {
        "id": "view-in-github",
        "colab_type": "text"
      },
      "source": [
        "<a href=\"https://colab.research.google.com/github/RamaHareshKiran/Algorithms-and-Analysis-Lab/blob/Algorithms/Krushkals.ipynb\" target=\"_parent\"><img src=\"https://colab.research.google.com/assets/colab-badge.svg\" alt=\"Open In Colab\"/></a>"
      ]
    },
    {
      "cell_type": "code",
      "execution_count": 12,
      "metadata": {
        "colab": {
          "base_uri": "https://localhost:8080/"
        },
        "id": "6aLBnrd1n21k",
        "outputId": "13fb8310-818e-4dd7-ca57-7f137b3db84b"
      },
      "outputs": [
        {
          "output_type": "stream",
          "name": "stdout",
          "text": [
            "Minimum Spanning Tree using Kruskal's Algorithm for Graph 1:\n",
            "Edge: (2, 3), Weight: 4\n",
            "Edge: (0, 3), Weight: 5\n",
            "Edge: (0, 1), Weight: 10\n",
            "\n",
            "\n",
            "Minimum Spanning Tree using Kruskal's Algorithm for Graph 2:\n",
            "Edge: (1, 3), Weight: 1\n",
            "Edge: (2, 3), Weight: 1\n",
            "Edge: (3, 4), Weight: 5\n"
          ]
        }
      ],
      "source": [
        "class DisjointSet:\n",
        "    def __init__(self, n):\n",
        "        self.parent = list(range(n))\n",
        "        self.rank = [0] * n\n",
        "\n",
        "    def find(self, u):\n",
        "        if self.parent[u] != u:\n",
        "            self.parent[u] = self.find(self.parent[u])\n",
        "        return self.parent[u]\n",
        "\n",
        "    def union(self, u, v):\n",
        "        root_u = self.find(u)\n",
        "        root_v = self.find(v)\n",
        "        if root_u != root_v:\n",
        "            if self.rank[root_u] > self.rank[root_v]:\n",
        "                self.parent[root_v] = root_u\n",
        "            elif self.rank[root_u] < self.rank[root_v]:\n",
        "                self.parent[root_u] = root_v\n",
        "            else:\n",
        "                self.parent[root_v] = root_u\n",
        "                self.rank[root_u] += 1\n",
        "\n",
        "class Graph:\n",
        "    def __init__(self):\n",
        "        self.edges = []\n",
        "\n",
        "    def add_edge(self, u, v, weight):\n",
        "        self.edges.append((weight, u, v))\n",
        "\n",
        "    def kruskal(self, num_vertices):\n",
        "        self.edges.sort()\n",
        "        disjoint_set = DisjointSet(num_vertices)\n",
        "        mst = []\n",
        "\n",
        "        for weight, u, v in self.edges:\n",
        "            if disjoint_set.find(u) != disjoint_set.find(v):\n",
        "                disjoint_set.union(u, v)\n",
        "                mst.append((u, v, weight))\n",
        "\n",
        "        return mst\n",
        "\n",
        "if __name__ == \"__main__\":\n",
        "    graph1 = Graph()\n",
        "    graph1.add_edge(0, 1, 10)\n",
        "    graph1.add_edge(0, 2, 6)\n",
        "    graph1.add_edge(0, 3, 5)\n",
        "    graph1.add_edge(1, 3, 15)\n",
        "    graph1.add_edge(2, 3, 4)\n",
        "\n",
        "    print(\"Minimum Spanning Tree using Kruskal's Algorithm for Graph 1:\")\n",
        "    mst1 = graph1.kruskal(4)\n",
        "    for u, v, weight in mst1:\n",
        "        print(f\"Edge: ({u}, {v}), Weight: {weight}\")\n",
        "\n",
        "    print(\"\\n\")\n",
        "\n",
        "    graph2 = Graph()\n",
        "    graph2.add_edge(1, 2, 3)\n",
        "    graph2.add_edge(1, 3, 1)\n",
        "    graph2.add_edge(2, 3, 1)\n",
        "    graph2.add_edge(2, 4, 6)\n",
        "    graph2.add_edge(3, 4, 5)\n",
        "\n",
        "    print(\"Minimum Spanning Tree using Kruskal's Algorithm for Graph 2:\")\n",
        "    mst2 = graph2.kruskal(5)\n",
        "    for u, v, weight in mst2:\n",
        "        print(f\"Edge: ({u}, {v}), Weight: {weight}\")\n"
      ]
    }
  ]
}