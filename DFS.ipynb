{
  "nbformat": 4,
  "nbformat_minor": 0,
  "metadata": {
    "colab": {
      "provenance": [],
      "authorship_tag": "ABX9TyNLJDCzmkojc/gucDztaglG",
      "include_colab_link": true
    },
    "kernelspec": {
      "name": "python3",
      "display_name": "Python 3"
    },
    "language_info": {
      "name": "python"
    }
  },
  "cells": [
    {
      "cell_type": "markdown",
      "metadata": {
        "id": "view-in-github",
        "colab_type": "text"
      },
      "source": [
        "<a href=\"https://colab.research.google.com/github/RamaHareshKiran/Algorithms-and-Analysis-Lab/blob/Algorithms/DFS.ipynb\" target=\"_parent\"><img src=\"https://colab.research.google.com/assets/colab-badge.svg\" alt=\"Open In Colab\"/></a>"
      ]
    },
    {
      "cell_type": "code",
      "execution_count": 8,
      "metadata": {
        "colab": {
          "base_uri": "https://localhost:8080/"
        },
        "id": "6aLBnrd1n21k",
        "outputId": "702a8f23-cdd6-453c-8e78-4d4019f7e272"
      },
      "outputs": [
        {
          "output_type": "stream",
          "name": "stdout",
          "text": [
            "DFS traversal starting from node A:\n",
            "A B D E F C \n",
            "\n",
            "DFS traversal starting from node 1:\n",
            "1 2 4 5 6 3 "
          ]
        }
      ],
      "source": [
        "def dfs(graph, start, visited=None):\n",
        "    if visited is None:\n",
        "        visited = set()\n",
        "    if start not in visited:\n",
        "        print(start, end=' ')\n",
        "        visited.add(start)\n",
        "        for neighbor in graph[start]:\n",
        "            dfs(graph, neighbor, visited)\n",
        "\n",
        "if __name__ == \"__main__\":\n",
        "    graph1 = {\n",
        "        'A': ['B', 'C'],\n",
        "        'B': ['A', 'D', 'E'],\n",
        "        'C': ['A', 'F'],\n",
        "        'D': ['B'],\n",
        "        'E': ['B', 'F'],\n",
        "        'F': ['C', 'E']\n",
        "    }\n",
        "\n",
        "    print(\"DFS traversal starting from node A:\")\n",
        "    dfs(graph1, 'A')\n",
        "    print(\"\\n\")\n",
        "\n",
        "    graph2 = {\n",
        "        '1': ['2', '3'],\n",
        "        '2': ['1', '4', '5'],\n",
        "        '3': ['1'],\n",
        "        '4': ['2'],\n",
        "        '5': ['2', '6'],\n",
        "        '6': ['5']\n",
        "    }\n",
        "\n",
        "    print(\"DFS traversal starting from node 1:\")\n",
        "    dfs(graph2, '1')\n"
      ]
    }
  ]
}