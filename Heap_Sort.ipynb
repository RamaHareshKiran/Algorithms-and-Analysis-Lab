{
  "nbformat": 4,
  "nbformat_minor": 0,
  "metadata": {
    "colab": {
      "provenance": [],
      "authorship_tag": "ABX9TyPBC4g+Jblo7+Y9fraG3Fui",
      "include_colab_link": true
    },
    "kernelspec": {
      "name": "python3",
      "display_name": "Python 3"
    },
    "language_info": {
      "name": "python"
    }
  },
  "cells": [
    {
      "cell_type": "markdown",
      "metadata": {
        "id": "view-in-github",
        "colab_type": "text"
      },
      "source": [
        "<a href=\"https://colab.research.google.com/github/RamaHareshKiran/Algorithms-and-Analysis-Lab/blob/Sorting/Heap_Sort.ipynb\" target=\"_parent\"><img src=\"https://colab.research.google.com/assets/colab-badge.svg\" alt=\"Open In Colab\"/></a>"
      ]
    },
    {
      "cell_type": "code",
      "execution_count": 5,
      "metadata": {
        "colab": {
          "base_uri": "https://localhost:8080/"
        },
        "id": "6aLBnrd1n21k",
        "outputId": "7e922735-c422-44a1-b237-2f3c4361bac5"
      },
      "outputs": [
        {
          "output_type": "stream",
          "name": "stdout",
          "text": [
            "Enter the number of elements in the array: 2\n",
            "Enter the elements:\n",
            "6\n",
            "3\n",
            "Sorted array: [3, 6]\n"
          ]
        }
      ],
      "source": [
        "def heapify(arr, n, i):\n",
        "    largest = i\n",
        "    left = 2 * i + 1\n",
        "    right = 2 * i + 2\n",
        "\n",
        "\n",
        "    if left < n and arr[left] > arr[largest]:\n",
        "        largest = left\n",
        "\n",
        "\n",
        "    if right < n and arr[right] > arr[largest]:\n",
        "        largest = right\n",
        "\n",
        "\n",
        "        arr[i], arr[largest] = arr[largest], arr[i]\n",
        "        heapify(arr, n, largest)\n",
        "\n",
        "def heap_sort(arr):\n",
        "    n = len(arr)\n",
        "\n",
        "\n",
        "    for i in range(n // 2 - 1, -1, -1):\n",
        "        heapify(arr, n, i)\n",
        "\n",
        "\n",
        "    for i in range(n - 1, 0, -1):\n",
        "        arr[i], arr[0] = arr[0], arr[i]\n",
        "        heapify(arr, i, 0)\n",
        "\n",
        "n = int(input(\"Enter the number of elements in the array: \"))\n",
        "arr = []\n",
        "\n",
        "print(\"Enter the elements:\")\n",
        "for _ in range(n):\n",
        "    value = int(input())\n",
        "    arr.append(value)\n",
        "\n",
        "heap_sort(arr)\n",
        "print(\"Sorted array:\", arr)\n"
      ]
    }
  ]
}