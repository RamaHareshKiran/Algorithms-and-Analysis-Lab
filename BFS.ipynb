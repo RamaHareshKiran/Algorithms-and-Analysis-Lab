{
  "nbformat": 4,
  "nbformat_minor": 0,
  "metadata": {
    "colab": {
      "provenance": [],
      "authorship_tag": "ABX9TyMkL8JVq5Ly0gd50P6vdnkv",
      "include_colab_link": true
    },
    "kernelspec": {
      "name": "python3",
      "display_name": "Python 3"
    },
    "language_info": {
      "name": "python"
    }
  },
  "cells": [
    {
      "cell_type": "markdown",
      "metadata": {
        "id": "view-in-github",
        "colab_type": "text"
      },
      "source": [
        "<a href=\"https://colab.research.google.com/github/RamaHareshKiran/Algorithms-and-Analysis-Lab/blob/Algorithms/BFS.ipynb\" target=\"_parent\"><img src=\"https://colab.research.google.com/assets/colab-badge.svg\" alt=\"Open In Colab\"/></a>"
      ]
    },
    {
      "cell_type": "code",
      "execution_count": 7,
      "metadata": {
        "colab": {
          "base_uri": "https://localhost:8080/"
        },
        "id": "6aLBnrd1n21k",
        "outputId": "a2ebb637-7923-4d38-fdab-9493d30e44dd"
      },
      "outputs": [
        {
          "output_type": "stream",
          "name": "stdout",
          "text": [
            "BFS traversal starting from node A:\n",
            "A B C D E F \n",
            "\n",
            "BFS traversal starting from node 1:\n",
            "1 2 3 4 5 6 "
          ]
        }
      ],
      "source": [
        "from collections import deque\n",
        "\n",
        "def bfs(graph, start):\n",
        "    visited = set()\n",
        "    queue = deque([start])\n",
        "\n",
        "    while queue:\n",
        "        node = queue.popleft()\n",
        "        if node not in visited:\n",
        "            print(node, end=' ')\n",
        "            visited.add(node)\n",
        "            for neighbor in graph[node]:\n",
        "                if neighbor not in visited:\n",
        "                    queue.append(neighbor)\n",
        "\n",
        "if __name__ == \"__main__\":\n",
        "    graph1 = {\n",
        "        'A': ['B', 'C'],\n",
        "        'B': ['A', 'D', 'E'],\n",
        "        'C': ['A', 'F'],\n",
        "        'D': ['B'],\n",
        "        'E': ['B', 'F'],\n",
        "        'F': ['C', 'E']\n",
        "    }\n",
        "\n",
        "    print(\"BFS traversal starting from node A:\")\n",
        "    bfs(graph1, 'A')\n",
        "    print(\"\\n\")\n",
        "\n",
        "    graph2 = {\n",
        "        '1': ['2', '3'],\n",
        "        '2': ['1', '4', '5'],\n",
        "        '3': ['1'],\n",
        "        '4': ['2'],\n",
        "        '5': ['2', '6'],\n",
        "        '6': ['5']\n",
        "    }\n",
        "\n",
        "    print(\"BFS traversal starting from node 1:\")\n",
        "    bfs(graph2, '1')\n"
      ]
    }
  ]
}