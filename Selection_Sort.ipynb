{
  "nbformat": 4,
  "nbformat_minor": 0,
  "metadata": {
    "colab": {
      "provenance": [],
      "authorship_tag": "ABX9TyOh/Q5ArcqvSvyDRT50x3iY",
      "include_colab_link": true
    },
    "kernelspec": {
      "name": "python3",
      "display_name": "Python 3"
    },
    "language_info": {
      "name": "python"
    }
  },
  "cells": [
    {
      "cell_type": "markdown",
      "metadata": {
        "id": "view-in-github",
        "colab_type": "text"
      },
      "source": [
        "<a href=\"https://colab.research.google.com/github/RamaHareshKiran/Algorithms-and-Analysis-Lab/blob/Sorting/Selection_Sort.ipynb\" target=\"_parent\"><img src=\"https://colab.research.google.com/assets/colab-badge.svg\" alt=\"Open In Colab\"/></a>"
      ]
    },
    {
      "cell_type": "code",
      "execution_count": 4,
      "metadata": {
        "colab": {
          "base_uri": "https://localhost:8080/"
        },
        "id": "6aLBnrd1n21k",
        "outputId": "9558cfc9-45b5-4fae-fbf4-22bf94e0ca08"
      },
      "outputs": [
        {
          "output_type": "stream",
          "name": "stdout",
          "text": [
            "Enter the number of elements in the array: 3\n",
            "Enter the elements:\n",
            "6\n",
            "2\n",
            "9\n",
            "Sorted array: [2, 6, 9]\n"
          ]
        }
      ],
      "source": [
        "def selection_sort(arr):\n",
        "    n = len(arr)\n",
        "    for i in range(n):\n",
        "        min_index = i\n",
        "        for j in range(i + 1, n):\n",
        "            if arr[j] < arr[min_index]:\n",
        "                min_index = j\n",
        "        arr[i], arr[min_index] = arr[min_index], arr[i]\n",
        "\n",
        "n = int(input(\"Enter the number of elements in the array: \"))\n",
        "arr = []\n",
        "\n",
        "print(\"Enter the elements:\")\n",
        "for _ in range(n):\n",
        "    value = int(input())\n",
        "    arr.append(value)\n",
        "\n",
        "selection_sort(arr)\n",
        "print(\"Sorted array:\", arr)\n"
      ]
    }
  ]
}